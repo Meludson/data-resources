{
 "cells": [
  {
   "cell_type": "markdown",
   "metadata": {},
   "source": [
    "# Brief\n",
    "\n",
    "We want to use public demographic data (average age and income) of London to cluster different boroughs together. This will allow us to understand better which parts of the city are similar or not (in terms of these 2 variables). \n",
    "\n",
    "We will do this using the **k-means** algorithm."
   ]
  },
  {
   "cell_type": "markdown",
   "metadata": {},
   "source": [
    "# Import libraries"
   ]
  },
  {
   "cell_type": "markdown",
   "metadata": {},
   "source": [
    "Use this opportunity to have a first brief look at `sklearn` using the [documentation](https://scikit-learn.org/stable/)."
   ]
  },
  {
   "cell_type": "code",
   "execution_count": 21,
   "metadata": {},
   "outputs": [],
   "source": [
    "# for loading and manipulating dataframes\n",
    "import pandas as pd\n",
    "\n",
    "# for various plotting functions\n",
    "import matplotlib.pyplot as plt\n",
    "import seaborn as sns\n",
    "\n",
    "# to scale our data so that we can perform \"sensible\" clustering\n",
    "from sklearn.preprocessing import scale\n",
    "\n",
    "# to provide an implementation of the k-means algorithm\n",
    "from sklearn.cluster import KMeans"
   ]
  },
  {
   "cell_type": "markdown",
   "metadata": {},
   "source": [
    "# Load data"
   ]
  },
  {
   "cell_type": "code",
   "execution_count": 22,
   "metadata": {},
   "outputs": [
    {
     "data": {
      "text/html": [
       "<div>\n",
       "<style scoped>\n",
       "    .dataframe tbody tr th:only-of-type {\n",
       "        vertical-align: middle;\n",
       "    }\n",
       "\n",
       "    .dataframe tbody tr th {\n",
       "        vertical-align: top;\n",
       "    }\n",
       "\n",
       "    .dataframe thead th {\n",
       "        text-align: right;\n",
       "    }\n",
       "</style>\n",
       "<table border=\"1\" class=\"dataframe\">\n",
       "  <thead>\n",
       "    <tr style=\"text-align: right;\">\n",
       "      <th></th>\n",
       "      <th>Borough</th>\n",
       "      <th>Mean age (2017)</th>\n",
       "      <th>Average income (£, 2015)</th>\n",
       "    </tr>\n",
       "  </thead>\n",
       "  <tbody>\n",
       "    <tr>\n",
       "      <th>0</th>\n",
       "      <td>Barking and Dagenham</td>\n",
       "      <td>32.9</td>\n",
       "      <td>33018</td>\n",
       "    </tr>\n",
       "    <tr>\n",
       "      <th>1</th>\n",
       "      <td>Barnet</td>\n",
       "      <td>37.3</td>\n",
       "      <td>30900</td>\n",
       "    </tr>\n",
       "    <tr>\n",
       "      <th>2</th>\n",
       "      <td>Bexley</td>\n",
       "      <td>39.0</td>\n",
       "      <td>29664</td>\n",
       "    </tr>\n",
       "    <tr>\n",
       "      <th>3</th>\n",
       "      <td>Brent</td>\n",
       "      <td>35.6</td>\n",
       "      <td>29987</td>\n",
       "    </tr>\n",
       "    <tr>\n",
       "      <th>4</th>\n",
       "      <td>Bromley</td>\n",
       "      <td>40.2</td>\n",
       "      <td>30444</td>\n",
       "    </tr>\n",
       "  </tbody>\n",
       "</table>\n",
       "</div>"
      ],
      "text/plain": [
       "                Borough  Mean age (2017)  Average income (£, 2015)\n",
       "0  Barking and Dagenham             32.9                     33018\n",
       "1                Barnet             37.3                     30900\n",
       "2                Bexley             39.0                     29664\n",
       "3                 Brent             35.6                     29987\n",
       "4               Bromley             40.2                     30444"
      ]
     },
     "execution_count": 22,
     "metadata": {},
     "output_type": "execute_result"
    }
   ],
   "source": [
    "data = pd.read_csv(\"LDN_demographic_data.csv\")\n",
    "\n",
    "data.head()"
   ]
  },
  {
   "cell_type": "markdown",
   "metadata": {},
   "source": [
    "# Explore & Transform"
   ]
  },
  {
   "cell_type": "code",
   "execution_count": 23,
   "metadata": {},
   "outputs": [
    {
     "name": "stdout",
     "output_type": "stream",
     "text": [
      "<class 'pandas.core.frame.DataFrame'>\n",
      "RangeIndex: 33 entries, 0 to 32\n",
      "Data columns (total 3 columns):\n",
      " #   Column                    Non-Null Count  Dtype  \n",
      "---  ------                    --------------  -----  \n",
      " 0   Borough                   33 non-null     object \n",
      " 1   Mean age (2017)           33 non-null     float64\n",
      " 2   Average income (£, 2015)  33 non-null     int64  \n",
      "dtypes: float64(1), int64(1), object(1)\n",
      "memory usage: 920.0+ bytes\n"
     ]
    }
   ],
   "source": [
    "data.info()"
   ]
  },
  {
   "cell_type": "code",
   "execution_count": 24,
   "metadata": {},
   "outputs": [
    {
     "data": {
      "text/plain": [
       "Borough                     0\n",
       "Mean age (2017)             0\n",
       "Average income (£, 2015)    0\n",
       "dtype: int64"
      ]
     },
     "execution_count": 24,
     "metadata": {},
     "output_type": "execute_result"
    }
   ],
   "source": [
    "# you can also check for missing values using e.g.\n",
    "data.isna().sum()"
   ]
  },
  {
   "cell_type": "markdown",
   "metadata": {},
   "source": [
    "There are no missing values, and the data types look correct - no cleaning to do! We still have some exploration and preprocessing to do however."
   ]
  },
  {
   "cell_type": "code",
   "execution_count": 25,
   "metadata": {},
   "outputs": [
    {
     "data": {
      "text/html": [
       "<div>\n",
       "<style scoped>\n",
       "    .dataframe tbody tr th:only-of-type {\n",
       "        vertical-align: middle;\n",
       "    }\n",
       "\n",
       "    .dataframe tbody tr th {\n",
       "        vertical-align: top;\n",
       "    }\n",
       "\n",
       "    .dataframe thead th {\n",
       "        text-align: right;\n",
       "    }\n",
       "</style>\n",
       "<table border=\"1\" class=\"dataframe\">\n",
       "  <thead>\n",
       "    <tr style=\"text-align: right;\">\n",
       "      <th></th>\n",
       "      <th>Mean age (2017)</th>\n",
       "      <th>Average income (£, 2015)</th>\n",
       "    </tr>\n",
       "  </thead>\n",
       "  <tbody>\n",
       "    <tr>\n",
       "      <th>count</th>\n",
       "      <td>33.000000</td>\n",
       "      <td>33.000000</td>\n",
       "    </tr>\n",
       "    <tr>\n",
       "      <th>mean</th>\n",
       "      <td>36.375758</td>\n",
       "      <td>32586.969697</td>\n",
       "    </tr>\n",
       "    <tr>\n",
       "      <th>std</th>\n",
       "      <td>2.487849</td>\n",
       "      <td>5554.108240</td>\n",
       "    </tr>\n",
       "    <tr>\n",
       "      <th>min</th>\n",
       "      <td>31.400000</td>\n",
       "      <td>26230.000000</td>\n",
       "    </tr>\n",
       "    <tr>\n",
       "      <th>25%</th>\n",
       "      <td>35.000000</td>\n",
       "      <td>29664.000000</td>\n",
       "    </tr>\n",
       "    <tr>\n",
       "      <th>50%</th>\n",
       "      <td>36.200000</td>\n",
       "      <td>30900.000000</td>\n",
       "    </tr>\n",
       "    <tr>\n",
       "      <th>75%</th>\n",
       "      <td>37.700000</td>\n",
       "      <td>33717.000000</td>\n",
       "    </tr>\n",
       "    <tr>\n",
       "      <th>max</th>\n",
       "      <td>43.200000</td>\n",
       "      <td>54034.000000</td>\n",
       "    </tr>\n",
       "  </tbody>\n",
       "</table>\n",
       "</div>"
      ],
      "text/plain": [
       "       Mean age (2017)  Average income (£, 2015)\n",
       "count        33.000000                 33.000000\n",
       "mean         36.375758              32586.969697\n",
       "std           2.487849               5554.108240\n",
       "min          31.400000              26230.000000\n",
       "25%          35.000000              29664.000000\n",
       "50%          36.200000              30900.000000\n",
       "75%          37.700000              33717.000000\n",
       "max          43.200000              54034.000000"
      ]
     },
     "execution_count": 25,
     "metadata": {},
     "output_type": "execute_result"
    }
   ],
   "source": [
    "# check summary statistics (for numerical variables)\n",
    "data.describe()"
   ]
  },
  {
   "cell_type": "markdown",
   "metadata": {},
   "source": [
    "We notice that age and income have quite different **scales**: age ranges from about 31-43, whereas income ranges from about 26000-54000. We will return to this shortly!"
   ]
  },
  {
   "cell_type": "markdown",
   "metadata": {},
   "source": [
    "There is also some indication from the summary statistics that there might be some **outliers** due to their income values. We can see this more easily from a visualisation:"
   ]
  },
  {
   "cell_type": "code",
   "execution_count": 26,
   "metadata": {},
   "outputs": [
    {
     "data": {
      "text/plain": [
       "<matplotlib.axes._subplots.AxesSubplot at 0x11d77e0f0>"
      ]
     },
     "execution_count": 26,
     "metadata": {},
     "output_type": "execute_result"
    },
    {
     "data": {
      "image/png": "[encoded data removed]",
      "text/plain": [
       "<Figure size 432x288 with 1 Axes>"
      ]
     },
     "metadata": {
      "needs_background": "light"
     },
     "output_type": "display_data"
    }
   ],
   "source": [
    "# create a scatterplot of the 2 variables\n",
    "sns.scatterplot(x = data['Mean age (2017)'], y = data['Average income (£, 2015)'])"
   ]
  },
  {
   "cell_type": "markdown",
   "metadata": {},
   "source": [
    "- The plot seems to show 2 outliers, and these are largely driven by their Income value.\n",
    "- No particularly strong correlation between the variables - we can use clustering to break up the data into groups and find new structure for us!\n",
    "- There are no overwhelmingly obvious clusters - there is some freedom in choosing k."
   ]
  },
  {
   "cell_type": "markdown",
   "metadata": {},
   "source": [
    "For clustering, it is important to **scale** our data so that all variables are of similar magnitude, and therefore contribute similarly to the clustering (e.g. when computing distances in k-means). If we didn't do this for the data above, our clusters would come out as horizontal \"strips\" because the horizontal distances between age values would be negligible when computing distances in k-means - the resulting clusters would be quite strange! We will demonstrate this with a visualisation below.\n",
    "\n",
    "One way to scale is to use **standardization** - you subtract the mean and divide by the standard deviation (per column), resulting in a mean of 0 and a standard deviation of 1 for each column. (This is a common way of scaling in unsupervised learning, though other ways include **normalization** in which you subtract by the minimum value and divide by the range per column).\n",
    "\n",
    "This is very easy to implement using [sklearn.preprocessing.scale](https://scikit-learn.org/stable/modules/generated/sklearn.preprocessing.scale.html) (which outputs the scaled data as a `np.array`):"
   ]
  },
  {
   "cell_type": "code",
   "execution_count": 27,
   "metadata": {},
   "outputs": [
    {
     "data": {
      "text/plain": [
       "array([[-1.41875497,  0.07880893],\n",
       "       [ 0.37726266, -0.308443  ],\n",
       "       [ 1.07117856, -0.53443139],\n",
       "       [-0.31665325, -0.47537455],\n",
       "       [ 1.56100155, -0.39181736],\n",
       "       [ 0.00989541,  0.80138667],\n",
       "       [ 2.78555902,  3.92134278],\n",
       "       [ 0.25480691, -0.35817507],\n",
       "       [-0.07174175, -0.71854975],\n",
       "       [-0.03092317, -1.16229878],\n",
       "       [-0.56156474, -0.38212692],\n",
       "       [-1.33711781, -0.18667256],\n",
       "       [-0.27583466,  0.37756704],\n",
       "       [-0.52074616, -0.45983328],\n",
       "       [ 0.78544848, -1.06356599],\n",
       "       [ 1.60182013, -0.3649401 ],\n",
       "       [ 0.00989541,  0.01719236],\n",
       "       [-0.23501608,  0.20661304],\n",
       "       [-0.6432019 ,  0.74818067],\n",
       "       [ 1.1936343 , -0.19435178],\n",
       "       [ 0.29562549, -0.7225722 ],\n",
       "       [-0.76565765,  0.41413474],\n",
       "       [-0.56156474, -0.30259217],\n",
       "       [ 0.13235116, -0.46568411],\n",
       "       [-1.74530363, -0.67667974],\n",
       "       [-0.23501608, -0.63791797],\n",
       "       [ 0.98954139,  0.01335275],\n",
       "       [-0.80647623,  0.66754889],\n",
       "       [ 1.03035997, -0.95660547],\n",
       "       [-2.03103371,  2.57693131],\n",
       "       [-0.52074616, -0.591477  ],\n",
       "       [-0.56156474, -0.11317149],\n",
       "       [ 0.54053699,  1.24422151]])"
      ]
     },
     "execution_count": 27,
     "metadata": {},
     "output_type": "execute_result"
    }
   ],
   "source": [
    "data_scaled = scale(data[['Mean age (2017)', 'Average income (£, 2015)']])\n",
    "\n",
    "data_scaled"
   ]
  },
  {
   "cell_type": "markdown",
   "metadata": {},
   "source": [
    "# Modelling with k-means"
   ]
  },
  {
   "cell_type": "markdown",
   "metadata": {},
   "source": [
    "We can now run the k-means algorithm on our scaled data using the `KMeans()` function from `sklearn`. Note the use of `random_state` here - this just ensures that our data points get assigned the same cluster label each time we run the code block (the actual clusters themselves would be the same regardless of setting this argument due to the default `init = kmeans++` argument, but details of this are in the online practice)."
   ]
  },
  {
   "cell_type": "code",
   "execution_count": 28,
   "metadata": {},
   "outputs": [
    {
     "data": {
      "text/plain": [
       "KMeans(n_clusters=6, random_state=123)"
      ]
     },
     "execution_count": 28,
     "metadata": {},
     "output_type": "execute_result"
    }
   ],
   "source": [
    "# create a KMeans class object and choose the value of any parameters\n",
    "model = KMeans(n_clusters = 6, random_state = 123)\n",
    "\n",
    "# fit the model to the (scaled) data i.e. actually run the algorithm!\n",
    "model.fit(data_scaled)"
   ]
  },
  {
   "cell_type": "markdown",
   "metadata": {},
   "source": [
    "**Note**: this process of instantiating a model with parameter values and then running `.fit()` is found in numerous `sklearn` classes."
   ]
  },
  {
   "cell_type": "code",
   "execution_count": 29,
   "metadata": {},
   "outputs": [
    {
     "data": {
      "text/plain": [
       "array([0, 1, 4, 1, 4, 3, 2, 1, 1, 1, 1, 0, 3, 1, 4, 4, 1, 3, 3, 4, 1, 3,\n",
       "       1, 1, 0, 1, 4, 3, 4, 5, 1, 1, 3], dtype=int32)"
      ]
     },
     "execution_count": 29,
     "metadata": {},
     "output_type": "execute_result"
    }
   ],
   "source": [
    "# we can access the clustering results via .labels_ after running .fit()\n",
    "model.labels_"
   ]
  },
  {
   "cell_type": "markdown",
   "metadata": {},
   "source": [
    "**Note**: in sklearn, attributes that have an underscore such as `.labels_` are ones that can only be accessed after training a model with something like `.fit()`."
   ]
  },
  {
   "cell_type": "code",
   "execution_count": 30,
   "metadata": {},
   "outputs": [
    {
     "data": {
      "text/html": [
       "<div>\n",
       "<style scoped>\n",
       "    .dataframe tbody tr th:only-of-type {\n",
       "        vertical-align: middle;\n",
       "    }\n",
       "\n",
       "    .dataframe tbody tr th {\n",
       "        vertical-align: top;\n",
       "    }\n",
       "\n",
       "    .dataframe thead th {\n",
       "        text-align: right;\n",
       "    }\n",
       "</style>\n",
       "<table border=\"1\" class=\"dataframe\">\n",
       "  <thead>\n",
       "    <tr style=\"text-align: right;\">\n",
       "      <th></th>\n",
       "      <th>Borough</th>\n",
       "      <th>Mean age (2017)</th>\n",
       "      <th>Average income (£, 2015)</th>\n",
       "      <th>cluster</th>\n",
       "    </tr>\n",
       "  </thead>\n",
       "  <tbody>\n",
       "    <tr>\n",
       "      <th>0</th>\n",
       "      <td>Barking and Dagenham</td>\n",
       "      <td>32.9</td>\n",
       "      <td>33018</td>\n",
       "      <td>0</td>\n",
       "    </tr>\n",
       "    <tr>\n",
       "      <th>1</th>\n",
       "      <td>Barnet</td>\n",
       "      <td>37.3</td>\n",
       "      <td>30900</td>\n",
       "      <td>1</td>\n",
       "    </tr>\n",
       "    <tr>\n",
       "      <th>2</th>\n",
       "      <td>Bexley</td>\n",
       "      <td>39.0</td>\n",
       "      <td>29664</td>\n",
       "      <td>4</td>\n",
       "    </tr>\n",
       "    <tr>\n",
       "      <th>3</th>\n",
       "      <td>Brent</td>\n",
       "      <td>35.6</td>\n",
       "      <td>29987</td>\n",
       "      <td>1</td>\n",
       "    </tr>\n",
       "    <tr>\n",
       "      <th>4</th>\n",
       "      <td>Bromley</td>\n",
       "      <td>40.2</td>\n",
       "      <td>30444</td>\n",
       "      <td>4</td>\n",
       "    </tr>\n",
       "  </tbody>\n",
       "</table>\n",
       "</div>"
      ],
      "text/plain": [
       "                Borough  Mean age (2017)  Average income (£, 2015)  cluster\n",
       "0  Barking and Dagenham             32.9                     33018        0\n",
       "1                Barnet             37.3                     30900        1\n",
       "2                Bexley             39.0                     29664        4\n",
       "3                 Brent             35.6                     29987        1\n",
       "4               Bromley             40.2                     30444        4"
      ]
     },
     "execution_count": 30,
     "metadata": {},
     "output_type": "execute_result"
    }
   ],
   "source": [
    "# add the cluster labels to a new column in our original dataframe\n",
    "data['cluster'] = model.labels_\n",
    "\n",
    "data.head()"
   ]
  },
  {
   "cell_type": "code",
   "execution_count": 31,
   "metadata": {},
   "outputs": [
    {
     "data": {
      "text/plain": [
       "<matplotlib.axes._subplots.AxesSubplot at 0x11f8e2940>"
      ]
     },
     "execution_count": 31,
     "metadata": {},
     "output_type": "execute_result"
    },
    {
     "data": {
      "image/png": "[encoded data removed]",
      "text/plain": [
       "<Figure size 432x288 with 1 Axes>"
      ]
     },
     "metadata": {
      "needs_background": "light"
     },
     "output_type": "display_data"
    }
   ],
   "source": [
    "# visualise the clusters by replotting our scatterplot but now with cluster label as colour\n",
    "sns.scatterplot(x = data['Mean age (2017)'], y = data['Average income (£, 2015)'],\n",
    "               hue = data['cluster'],\n",
    "               palette = 'Dark2_r',\n",
    "               legend = 'full')"
   ]
  },
  {
   "cell_type": "markdown",
   "metadata": {},
   "source": [
    "These looks like fairly sensible clusters (and we can see that the scaling has worked), and the algorithm has in this case identified the two outliers as being clusters by themselves (for our choice of k=6 of course)."
   ]
  },
  {
   "cell_type": "markdown",
   "metadata": {},
   "source": [
    "**Note**: we can illustrate the effect of scaling by copying the code we used to cluster above, but this time performing it on the *unscaled* data. Notice how we do indeed get counter-intuitive horizontal strip clusters in this case, and not the sort of clusters we would expect to have found by eye-balling:"
   ]
  },
  {
   "cell_type": "code",
   "execution_count": 32,
   "metadata": {},
   "outputs": [
    {
     "data": {
      "text/plain": [
       "<matplotlib.axes._subplots.AxesSubplot at 0x11facb048>"
      ]
     },
     "execution_count": 32,
     "metadata": {},
     "output_type": "execute_result"
    },
    {
     "data": {
      "image/png": "[encoded data removed]",
      "text/plain": [
       "<Figure size 432x288 with 1 Axes>"
      ]
     },
     "metadata": {
      "needs_background": "light"
     },
     "output_type": "display_data"
    }
   ],
   "source": [
    "data_not_scaled = data[['Mean age (2017)', 'Average income (£, 2015)']]\n",
    "\n",
    "model2 = KMeans(n_clusters = 6, random_state = 123)\n",
    "\n",
    "model2.fit(data_not_scaled)\n",
    "\n",
    "data['cluster_notScaled'] = model2.labels_\n",
    "\n",
    "sns.scatterplot(x = data['Mean age (2017)'], y = data['Average income (£, 2015)'],\n",
    "               hue = data['cluster_notScaled'],\n",
    "               palette = 'Dark2_r',\n",
    "               legend = 'full')"
   ]
  },
  {
   "cell_type": "markdown",
   "metadata": {},
   "source": [
    "In more than 2 or 3 dimensions, it's harder to visualise your clusters. You will gain some experience of this in the online practice/hackathon. One particularly simple way to look at the cluster results is simply to subset by cluster label:"
   ]
  },
  {
   "cell_type": "code",
   "execution_count": 33,
   "metadata": {},
   "outputs": [
    {
     "data": {
      "text/html": [
       "<div>\n",
       "<style scoped>\n",
       "    .dataframe tbody tr th:only-of-type {\n",
       "        vertical-align: middle;\n",
       "    }\n",
       "\n",
       "    .dataframe tbody tr th {\n",
       "        vertical-align: top;\n",
       "    }\n",
       "\n",
       "    .dataframe thead th {\n",
       "        text-align: right;\n",
       "    }\n",
       "</style>\n",
       "<table border=\"1\" class=\"dataframe\">\n",
       "  <thead>\n",
       "    <tr style=\"text-align: right;\">\n",
       "      <th></th>\n",
       "      <th>Borough</th>\n",
       "      <th>Mean age (2017)</th>\n",
       "      <th>Average income (£, 2015)</th>\n",
       "      <th>cluster</th>\n",
       "      <th>cluster_notScaled</th>\n",
       "    </tr>\n",
       "  </thead>\n",
       "  <tbody>\n",
       "    <tr>\n",
       "      <th>0</th>\n",
       "      <td>Barking and Dagenham</td>\n",
       "      <td>32.9</td>\n",
       "      <td>33018</td>\n",
       "      <td>0</td>\n",
       "      <td>2</td>\n",
       "    </tr>\n",
       "    <tr>\n",
       "      <th>11</th>\n",
       "      <td>Hackney</td>\n",
       "      <td>33.1</td>\n",
       "      <td>31566</td>\n",
       "      <td>0</td>\n",
       "      <td>5</td>\n",
       "    </tr>\n",
       "    <tr>\n",
       "      <th>24</th>\n",
       "      <td>Newham</td>\n",
       "      <td>32.1</td>\n",
       "      <td>28886</td>\n",
       "      <td>0</td>\n",
       "      <td>0</td>\n",
       "    </tr>\n",
       "  </tbody>\n",
       "</table>\n",
       "</div>"
      ],
      "text/plain": [
       "                 Borough  Mean age (2017)  Average income (£, 2015)  cluster  \\\n",
       "0   Barking and Dagenham             32.9                     33018        0   \n",
       "11               Hackney             33.1                     31566        0   \n",
       "24                Newham             32.1                     28886        0   \n",
       "\n",
       "    cluster_notScaled  \n",
       "0                   2  \n",
       "11                  5  \n",
       "24                  0  "
      ]
     },
     "execution_count": 33,
     "metadata": {},
     "output_type": "execute_result"
    }
   ],
   "source": [
    "data[data['cluster'] == 0]"
   ]
  },
  {
   "cell_type": "code",
   "execution_count": 34,
   "metadata": {},
   "outputs": [
    {
     "data": {
      "text/html": [
       "<div>\n",
       "<style scoped>\n",
       "    .dataframe tbody tr th:only-of-type {\n",
       "        vertical-align: middle;\n",
       "    }\n",
       "\n",
       "    .dataframe tbody tr th {\n",
       "        vertical-align: top;\n",
       "    }\n",
       "\n",
       "    .dataframe thead th {\n",
       "        text-align: right;\n",
       "    }\n",
       "</style>\n",
       "<table border=\"1\" class=\"dataframe\">\n",
       "  <thead>\n",
       "    <tr style=\"text-align: right;\">\n",
       "      <th></th>\n",
       "      <th>Borough</th>\n",
       "      <th>Mean age (2017)</th>\n",
       "      <th>Average income (£, 2015)</th>\n",
       "      <th>cluster</th>\n",
       "      <th>cluster_notScaled</th>\n",
       "    </tr>\n",
       "  </thead>\n",
       "  <tbody>\n",
       "    <tr>\n",
       "      <th>6</th>\n",
       "      <td>City of London</td>\n",
       "      <td>43.2</td>\n",
       "      <td>54034</td>\n",
       "      <td>2</td>\n",
       "      <td>4</td>\n",
       "    </tr>\n",
       "  </tbody>\n",
       "</table>\n",
       "</div>"
      ],
      "text/plain": [
       "          Borough  Mean age (2017)  Average income (£, 2015)  cluster  \\\n",
       "6  City of London             43.2                     54034        2   \n",
       "\n",
       "   cluster_notScaled  \n",
       "6                  4  "
      ]
     },
     "execution_count": 34,
     "metadata": {},
     "output_type": "execute_result"
    }
   ],
   "source": [
    "data[data['cluster'] == 2]"
   ]
  },
  {
   "cell_type": "markdown",
   "metadata": {},
   "source": [
    "**Domain knowledge** is key to interpreting the clusters. E.g. there are 2 outliers including the very high income City of London, which agrees with our wider knowledge. We always need domain knowledge for this - the clustering algorithms can never provide us with this insight themselves."
   ]
  },
  {
   "cell_type": "markdown",
   "metadata": {},
   "source": [
    "# Evaluate"
   ]
  },
  {
   "cell_type": "markdown",
   "metadata": {},
   "source": [
    "We have produced our clustering, but are the results \"good\"? How can we quantify this? Did we pick the best value of k?"
   ]
  },
  {
   "cell_type": "markdown",
   "metadata": {},
   "source": [
    "A common metric for evaluating clustering is called the **inertia** or \"within-cluster sum-of-squares\". This is simply the sum of the squared-deviations of each data point from its own cluster centroid. \n",
    "\n",
    "This gives a single number that quantifies how \"good\" the clustering is:\n",
    "\n",
    "- Inertia large -> clustering is \"loose\" i.e. bad\n",
    "- Inertia small -> clustering is \"tight\" i.e. good"
   ]
  },
  {
   "cell_type": "markdown",
   "metadata": {},
   "source": [
    "The inertia is easy to calculate in `sklearn` using the `.inertia_` attribute (again only accessible after running `.fit()`:"
   ]
  },
  {
   "cell_type": "code",
   "execution_count": 35,
   "metadata": {},
   "outputs": [
    {
     "data": {
      "text/plain": [
       "6.626725336602393"
      ]
     },
     "execution_count": 35,
     "metadata": {},
     "output_type": "execute_result"
    }
   ],
   "source": [
    "model.inertia_"
   ]
  },
  {
   "cell_type": "markdown",
   "metadata": {},
   "source": [
    "The raw inertia value is not always so easy to interpret, but it is most commonly used in helping determine the optimal value of k. The idea is to try different values of k, and choose k such that the inertia is lowest. The problem here however is that inertia *always* goes down as k increases - the inertia is 0 if you pick k = size of the dataset, but this clustering is trivial and useless!"
   ]
  },
  {
   "cell_type": "markdown",
   "metadata": {},
   "source": [
    "In practice, people sometimes choose k with help of the **elbow method**. This starts off as above (i.e. compute the inertia for different values of k), but we don't just pick that k that gives the lowest inertia:"
   ]
  },
  {
   "cell_type": "code",
   "execution_count": 36,
   "metadata": {},
   "outputs": [],
   "source": [
    "# create a list of different values of k to test\n",
    "num_clusters = list(range(1,15))\n",
    "\n",
    "# for each value of k, run KMeans, compute the inertia, and store the value in a list\n",
    "# Note: we don't need to set the random_state here as we are only interested in the inertia value\n",
    "inertias = [KMeans(n_clusters = i).fit(data_scaled).inertia_ for i in num_clusters]"
   ]
  },
  {
   "cell_type": "markdown",
   "metadata": {},
   "source": [
    "Note the use of a **list comprehension** above, which in a single line of code stores the results of a for-loop into a list. If you don't like how compact this line of code is, you can do it with a full for loop in the usual way:"
   ]
  },
  {
   "cell_type": "code",
   "execution_count": 37,
   "metadata": {},
   "outputs": [],
   "source": [
    "inertias_list = []\n",
    "\n",
    "for i in num_clusters:\n",
    "    inertias_list.append(KMeans(n_clusters = i).fit(data_scaled).inertia_) "
   ]
  },
  {
   "cell_type": "markdown",
   "metadata": {},
   "source": [
    "Let's look at the inertia values:"
   ]
  },
  {
   "cell_type": "code",
   "execution_count": 38,
   "metadata": {},
   "outputs": [
    {
     "data": {
      "text/plain": [
       "[66.00000000000001,\n",
       " 42.140723396812234,\n",
       " 24.19297766996453,\n",
       " 16.29396876337271,\n",
       " 10.755977295307963,\n",
       " 6.626725336602393,\n",
       " 5.232694692239634,\n",
       " 3.872532309813158,\n",
       " 3.158606431346842,\n",
       " 2.3688390288135706,\n",
       " 1.8982525749410624,\n",
       " 1.5501402376028321,\n",
       " 1.1752278422749638,\n",
       " 0.9701401651476014]"
      ]
     },
     "execution_count": 38,
     "metadata": {},
     "output_type": "execute_result"
    }
   ],
   "source": [
    "inertias"
   ]
  },
  {
   "cell_type": "markdown",
   "metadata": {},
   "source": [
    "Indeed these values are going down, but we notice that they start going down by less and less. Is there a balance to be struck between a low inertia value without unnecessarily large numbers of clusters?"
   ]
  },
  {
   "cell_type": "code",
   "execution_count": 39,
   "metadata": {},
   "outputs": [
    {
     "data": {
      "text/plain": [
       "Text(0.5, 1.0, 'Elbow test')"
      ]
     },
     "execution_count": 39,
     "metadata": {},
     "output_type": "execute_result"
    },
    {
     "data": {
      "image/png": "[encoded data removed]",
      "text/plain": [
       "<Figure size 432x288 with 1 Axes>"
      ]
     },
     "metadata": {
      "needs_background": "light"
     },
     "output_type": "display_data"
    }
   ],
   "source": [
    "# plot inertia vs k and look for the kink or \"elbow\" in the plot to determine the optimal value of k\n",
    "sns.lineplot(num_clusters, inertias)\n",
    "\n",
    "# add a title and axis labels\n",
    "plt.xlabel(\"k\")\n",
    "plt.ylabel(\"Inertias\")\n",
    "plt.title(\"Elbow test\")"
   ]
  },
  {
   "cell_type": "markdown",
   "metadata": {},
   "source": [
    "This somewhat validates our choice of k=6 earlier, because above this there is not much decrease in inertia for each increase in k - we're just adding complexity without much improvement in performance.\n",
    "\n",
    "In practice, you would actually do this earlier on in the analysis, to determine what value of k to use when modelling.\n",
    "\n",
    "Note however that **silhouette methods** provide a better metric and means of choosing k, as discussed in the online practice."
   ]
  }
 ],
 "metadata": {
  "kernelspec": {
   "display_name": "Python 3",
   "language": "python",
   "name": "python3"
  },
  "language_info": {
   "codemirror_mode": {
    "name": "ipython",
    "version": 3
   },
   "file_extension": ".py",
   "mimetype": "text/x-python",
   "name": "python",
   "nbconvert_exporter": "python",
   "pygments_lexer": "ipython3",
   "version": "3.7.1"
  }
 },
 "nbformat": 4,
 "nbformat_minor": 2
}
