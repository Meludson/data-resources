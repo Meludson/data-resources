{
 "cells": [
  {
   "cell_type": "markdown",
   "metadata": {},
   "source": [
    "# Fundamentals of Python\n",
    "\n",
    "This notebook is designed to help cement your knowledge of Python syntax and methods. As you complete each challenge, you will practise foundational programming skills and develop your computational thinking ability.\n",
    "\n",
    "Some challenges are marked as \"extension\"; these challenges are significantly more complex than others, and should only be attempted when you feel secure with all the prior concepts. Later challenges will involve a considerable amount of research and coding complexity."
   ]
  },
  {
   "cell_type": "markdown",
   "metadata": {},
   "source": [
    "## Variables\n",
    "\n",
    "A variable is a **named** place to store a **value** that can **change**.\n",
    "\n",
    "Variables can have almost any name, as long as it is a single word (no spaces or punctuation), does not begin with a number, and is not a word that Python already knows."
   ]
  },
  {
   "cell_type": "code",
   "execution_count": 1,
   "metadata": {},
   "outputs": [
    {
     "name": "stdout",
     "output_type": "stream",
     "text": [
      "word\n",
      "3\n",
      "word\n"
     ]
    }
   ],
   "source": [
    "# Assigning a number to a variable\n",
    "\n",
    "num = 1\n",
    "\n",
    "# Adding 1 to a variable (in two ways)\n",
    "\n",
    "num = num + 1\n",
    "\n",
    "num += 1\n",
    "\n",
    "# Assigning a variable based on user input \n",
    "\n",
    "word = input()\n",
    "\n",
    "# Displaying a variable\n",
    "\n",
    "print(num)\n",
    "print(word)"
   ]
  },
  {
   "cell_type": "markdown",
   "metadata": {},
   "source": [
    "### Challenge \n",
    "\n",
    "- Assign numbers to two different variables\n",
    "- Multiply the numbers and assign the result to a third variable\n",
    "- Display the value of the third variable"
   ]
  },
  {
   "cell_type": "code",
   "execution_count": 2,
   "metadata": {},
   "outputs": [
    {
     "name": "stdout",
     "output_type": "stream",
     "text": [
      "12\n"
     ]
    }
   ],
   "source": [
    "a = 3\n",
    "b = 4\n",
    "c = a * b\n",
    "print(c)"
   ]
  },
  {
   "cell_type": "markdown",
   "metadata": {},
   "source": [
    "## Data types\n",
    "\n",
    "Different kinds of information are stored as different variable types. Python recognises several different data basic types:\n",
    "\n",
    "* String - \n",
    "* Integer - \n",
    "* Float -\n",
    "* Boolean - \n",
    "\n",
    "Certain operations - like addition - work differently on different data types, so it is important to be clear on what type of value you have."
   ]
  },
  {
   "cell_type": "code",
   "execution_count": 3,
   "metadata": {},
   "outputs": [],
   "source": [
    "# Assigning a string to a variable\n",
    "\n",
    "word = \"cat\"\n",
    "\n",
    "# Checking the type of a variable\n",
    "\n",
    "type(word)\n",
    "\n",
    "# Converting an integer to a string and storing the string in a variable\n",
    "\n",
    "word = str(42)\n",
    "\n",
    "# Converting a string to an integer and storing the integer in a variable\n",
    "\n",
    "num = int(\"42\")"
   ]
  },
  {
   "cell_type": "markdown",
   "metadata": {},
   "source": [
    "### Challenge\n",
    "\n",
    "- Prompt the user to enter a number\n",
    "- Store the number as an integer in a variable\n",
    "- multiply the number by 7 and store the result in the same variable\n",
    "- Display a sentence about the number, including the number"
   ]
  },
  {
   "cell_type": "code",
   "execution_count": 4,
   "metadata": {},
   "outputs": [
    {
     "name": "stdout",
     "output_type": "stream",
     "text": [
      "Enter a number: 2\n",
      "Your new number is 14\n",
      "Enter a number: 4\n",
      "Your new number is 28\n"
     ]
    }
   ],
   "source": [
    "num = input(\"Enter a number: \")\n",
    "num = int(num)\n",
    "num = num * 7\n",
    "num = str(num)\n",
    "print(\"Your new number is \" + num)\n",
    "\n",
    "print(\"Your new number is \" + str(int(input(\"Enter a number: \")) * 7))"
   ]
  },
  {
   "cell_type": "markdown",
   "metadata": {},
   "source": [
    "## Conditionals\n",
    "\n",
    "**Direct** a process based on **logic**\n",
    "\n",
    "IF statements evaluate logical statements, and then do different things based on whether the statements are  `True` or `False`.\n",
    "\n",
    "Every IF statement begins with an `if`.\n",
    "\n",
    "You can have as many `elif` statements as you want.\n",
    "\n",
    "If you have an `else` in your statement, it has to come at the end. `else` does not have a condition."
   ]
  },
  {
   "cell_type": "code",
   "execution_count": 5,
   "metadata": {},
   "outputs": [
    {
     "name": "stdout",
     "output_type": "stream",
     "text": [
      "Enter a number: 3\n"
     ]
    }
   ],
   "source": [
    "# An IF statement that prints out \"higher\" if a user-entered number is greater than 3\n",
    "\n",
    "num = int(input(\"Enter a number: \"))\n",
    "if num > 3:\n",
    "    print(\"higher\")"
   ]
  },
  {
   "cell_type": "code",
   "execution_count": 6,
   "metadata": {},
   "outputs": [
    {
     "name": "stdout",
     "output_type": "stream",
     "text": [
      "3\n"
     ]
    }
   ],
   "source": [
    "# An IF statement including both elif and else\n",
    "\n",
    "word = \"jalopy\"\n",
    "\n",
    "if word == \"motor\":\n",
    "    print(1)\n",
    "elif word == \"automobile\":\n",
    "    print(2)\n",
    "else:\n",
    "    print(3)"
   ]
  },
  {
   "cell_type": "markdown",
   "metadata": {},
   "source": [
    "### Challenge\n",
    "\n",
    "- Prompt the user for an animal\n",
    "- If the animal is a cat, print \"meow\"\n",
    "- If the animal is a dog, print \"woof\"\n",
    "- In all other situations, print \"squawk\""
   ]
  },
  {
   "cell_type": "code",
   "execution_count": 7,
   "metadata": {},
   "outputs": [
    {
     "name": "stdout",
     "output_type": "stream",
     "text": [
      "Enter an animal: cow\n",
      "squawk\n"
     ]
    }
   ],
   "source": [
    "animal = input(\"Enter an animal: \")\n",
    "\n",
    "if animal == \"cat\":\n",
    "    print(\"meow\")\n",
    "elif animal == \"dog\":\n",
    "    print(\"woof\")\n",
    "else:\n",
    "    print(\"squawk\")"
   ]
  },
  {
   "cell_type": "markdown",
   "metadata": {},
   "source": [
    "## Loops\n",
    "\n",
    "**Repeat** a **block** of code\n",
    "\n",
    "A FOR loop is used when you know how many times you need to loop.\n",
    "\n",
    "A WHILE loop is used when you are not sure how many times you will need to loop."
   ]
  },
  {
   "cell_type": "code",
   "execution_count": 8,
   "metadata": {},
   "outputs": [
    {
     "name": "stdout",
     "output_type": "stream",
     "text": [
      "1\n",
      "2\n",
      "3\n",
      "4\n",
      "5\n",
      "6\n",
      "7\n",
      "8\n",
      "9\n",
      "10\n"
     ]
    }
   ],
   "source": [
    "# A FOR loop that counts from 1 to 10, printing out each number\n",
    "\n",
    "for i in range(1, 11):\n",
    "    print(i)"
   ]
  },
  {
   "cell_type": "code",
   "execution_count": 9,
   "metadata": {},
   "outputs": [
    {
     "name": "stdout",
     "output_type": "stream",
     "text": [
      "11\n"
     ]
    }
   ],
   "source": [
    "# A WHILE loop that runs until a number is greater than 10\n",
    "\n",
    "count = 0\n",
    "\n",
    "while count <= 10:\n",
    "    count += 1\n",
    "    \n",
    "print(count)"
   ]
  },
  {
   "cell_type": "markdown",
   "metadata": {},
   "source": [
    "### Challenge\n",
    "\n",
    "- Create a loop that counts from 0 to a higher user-entered number"
   ]
  },
  {
   "cell_type": "code",
   "execution_count": 10,
   "metadata": {},
   "outputs": [
    {
     "name": "stdout",
     "output_type": "stream",
     "text": [
      "Enter a number: 2\n",
      "0\n",
      "1\n",
      "2\n"
     ]
    }
   ],
   "source": [
    "num = int(input(\"Enter a number: \"))\n",
    "\n",
    "for i in range(0, num + 1):\n",
    "    print(i)"
   ]
  },
  {
   "cell_type": "markdown",
   "metadata": {},
   "source": [
    "### Challenge (extension)\n",
    "\n",
    "- Prompt the user for an integer\n",
    "- If the number is less than 17 and greater than 4, print \"just right\"\n",
    "- If the number is greater than 17 or under 0, print \"wrong size\"\n",
    "- If the number is exactly 3, print \"too three\"\n",
    "- In all other cases, print the number as many times as the number"
   ]
  },
  {
   "cell_type": "code",
   "execution_count": 11,
   "metadata": {},
   "outputs": [
    {
     "name": "stdout",
     "output_type": "stream",
     "text": [
      "Enter a number: 4\n",
      "4\n",
      "4\n",
      "4\n",
      "4\n"
     ]
    }
   ],
   "source": [
    "num = int(input(\"Enter a number: \"))\n",
    "\n",
    "if num < 17 and num > 4:\n",
    "    print(\"just right\")\n",
    "elif num > 17 or num < 0:\n",
    "    print(\"wrong size\")\n",
    "elif num == 3:\n",
    "    print(\"too three\")\n",
    "else:\n",
    "    for i in range(num):\n",
    "        print(num)"
   ]
  },
  {
   "cell_type": "markdown",
   "metadata": {},
   "source": [
    "### Challenge (extension)\n",
    "\n",
    "- Prompt the user to enter an integer\n",
    "- Keep prompting until the user enters a valid integer"
   ]
  },
  {
   "cell_type": "code",
   "execution_count": 23,
   "metadata": {},
   "outputs": [
    {
     "name": "stdout",
     "output_type": "stream",
     "text": [
      "Enter an integer: ap\n",
      "Enter an integer: s\n",
      "Enter an integer: f\n",
      "Enter an integer: 4\n"
     ]
    }
   ],
   "source": [
    "num = \"placeholder\"\n",
    "\n",
    "while type(num) != int:\n",
    "    num = input(\"Enter an integer: \")\n",
    "    try:\n",
    "        num = int(num)\n",
    "    except:\n",
    "        pass"
   ]
  },
  {
   "cell_type": "markdown",
   "metadata": {},
   "source": [
    "## Functions\n",
    "\n",
    "A **named**, **repeatable** block of code.\n",
    "\n",
    "A function must be `def`ined before it can be **called**.\n",
    "\n",
    "A function can `return` a value.\n",
    "\n",
    "Some functions take **arguments** when they are called.\n"
   ]
  },
  {
   "cell_type": "code",
   "execution_count": 13,
   "metadata": {},
   "outputs": [],
   "source": [
    "# A function that takes a string as an argument and prints the string out 4 times\n",
    "\n",
    "def print_four(value):\n",
    "    print(value)\n",
    "    print(value)\n",
    "    print(value)\n",
    "    print(value)\n",
    "\n",
    "# A function that adds 2 to a given number and returns the new value\n",
    "\n",
    "def add_two(num):\n",
    "    return num + 2"
   ]
  },
  {
   "cell_type": "markdown",
   "metadata": {},
   "source": [
    "### Challenge\n",
    "\n",
    "- Create a function called `farewell` that takes one argument\n",
    "- The function should return the string \"Goodbye forever, \" concatenated with the argument"
   ]
  },
  {
   "cell_type": "code",
   "execution_count": 14,
   "metadata": {},
   "outputs": [],
   "source": [
    "def farewell(name):\n",
    "    return \"Goodbye forever, \" + name"
   ]
  },
  {
   "cell_type": "markdown",
   "metadata": {},
   "source": [
    "### Challenge (extension)\n",
    "\n",
    "- Create a function `add_nums` that takes two arguments\n",
    "- If the arguments are not numeric, the function should return 0\n",
    "- Otherwise, the function should return the two arguments added together"
   ]
  },
  {
   "cell_type": "code",
   "execution_count": 15,
   "metadata": {},
   "outputs": [],
   "source": [
    "def add_nums(a, b):\n",
    "    if type(a) == int or type(a) == float:\n",
    "        if type(b) == int or type(b) == float:\n",
    "            return a + b\n",
    "    return 0"
   ]
  },
  {
   "cell_type": "markdown",
   "metadata": {},
   "source": [
    "## Reading stack traces\n",
    "\n",
    "Even the best programmers often encounter errors, and so the ability to understand error messages is a key skill for all coding. \n",
    "\n",
    "When you first see an error message, or \"stack trace\" (a list of errors in the order that they occurred, going back to the root error), it can be quite intimidating. However, there's actually only one place you normally need to look for information.\n",
    "\n",
    "The very last two lines of the error message will tell you the type, line location, and exact nature of any error. \n",
    "\n",
    "Run the code block below to see an error message."
   ]
  },
  {
   "cell_type": "code",
   "execution_count": 16,
   "metadata": {},
   "outputs": [
    {
     "ename": "TypeError",
     "evalue": "unsupported operand type(s) for +: 'int' and 'str'",
     "output_type": "error",
     "traceback": [
      "\u001b[0;31m---------------------------------------------------------------------------\u001b[0m",
      "\u001b[0;31mTypeError\u001b[0m                                 Traceback (most recent call last)",
      "\u001b[0;32m<ipython-input-16-96788054896b>\u001b[0m in \u001b[0;36m<module>\u001b[0;34m\u001b[0m\n\u001b[0;32m----> 1\u001b[0;31m \u001b[0mprint\u001b[0m\u001b[0;34m(\u001b[0m\u001b[0;36m2\u001b[0m \u001b[0;34m+\u001b[0m \u001b[0;34m\"2\"\u001b[0m\u001b[0;34m)\u001b[0m\u001b[0;34m\u001b[0m\u001b[0;34m\u001b[0m\u001b[0m\n\u001b[0m",
      "\u001b[0;31mTypeError\u001b[0m: unsupported operand type(s) for +: 'int' and 'str'"
     ]
    }
   ],
   "source": [
    "print(2 + \"2\")"
   ]
  },
  {
   "cell_type": "markdown",
   "metadata": {},
   "source": [
    "The error occurred on line 1, with the call `print(2 + \"2)`. It's a `TypeError`, which means that you attempt to do something with a data type (or types) that the computer did not understand. The specific message is `unsupported operand type(s) for +: 'int' and 'str'` - you attempted to add a string and an integer, which does not work. \n",
    "\n",
    "With the above information, you can work out how to solve the problem."
   ]
  },
  {
   "cell_type": "markdown",
   "metadata": {},
   "source": [
    "### Challenge\n",
    "\n",
    "Run the code blocks below, identify the errors based on the stack traces, and correct the code."
   ]
  },
  {
   "cell_type": "code",
   "execution_count": 17,
   "metadata": {},
   "outputs": [
    {
     "ename": "SyntaxError",
     "evalue": "invalid syntax (<ipython-input-17-f16f8ecdc462>, line 1)",
     "output_type": "error",
     "traceback": [
      "\u001b[0;36m  File \u001b[0;32m\"<ipython-input-17-f16f8ecdc462>\"\u001b[0;36m, line \u001b[0;32m1\u001b[0m\n\u001b[0;31m    def add(num1, num2)\u001b[0m\n\u001b[0m                       ^\u001b[0m\n\u001b[0;31mSyntaxError\u001b[0m\u001b[0;31m:\u001b[0m invalid syntax\n"
     ]
    }
   ],
   "source": [
    "def add(num1, num2)\n",
    "    num1 + num2"
   ]
  },
  {
   "cell_type": "code",
   "execution_count": 18,
   "metadata": {},
   "outputs": [
    {
     "ename": "TypeError",
     "evalue": "multiply() takes 2 positional arguments but 3 were given",
     "output_type": "error",
     "traceback": [
      "\u001b[0;31m---------------------------------------------------------------------------\u001b[0m",
      "\u001b[0;31mTypeError\u001b[0m                                 Traceback (most recent call last)",
      "\u001b[0;32m<ipython-input-18-a04b067bf9fc>\u001b[0m in \u001b[0;36m<module>\u001b[0;34m\u001b[0m\n\u001b[1;32m      2\u001b[0m     \u001b[0;32mreturn\u001b[0m \u001b[0mnum1\u001b[0m \u001b[0;34m*\u001b[0m \u001b[0mnum2\u001b[0m\u001b[0;34m\u001b[0m\u001b[0;34m\u001b[0m\u001b[0m\n\u001b[1;32m      3\u001b[0m \u001b[0;34m\u001b[0m\u001b[0m\n\u001b[0;32m----> 4\u001b[0;31m \u001b[0mmultiply\u001b[0m\u001b[0;34m(\u001b[0m\u001b[0;36m3\u001b[0m\u001b[0;34m,\u001b[0m\u001b[0;36m4\u001b[0m\u001b[0;34m,\u001b[0m\u001b[0;36m5\u001b[0m\u001b[0;34m)\u001b[0m\u001b[0;34m\u001b[0m\u001b[0;34m\u001b[0m\u001b[0m\n\u001b[0m",
      "\u001b[0;31mTypeError\u001b[0m: multiply() takes 2 positional arguments but 3 were given"
     ]
    }
   ],
   "source": [
    "def multiply(num1, num2):\n",
    "    return num1 * num2\n",
    "\n",
    "multiply(3,4,5)"
   ]
  },
  {
   "cell_type": "markdown",
   "metadata": {},
   "source": [
    "## Lists, tuples, and dictionaries (extension)\n",
    "\n",
    "So far, we've used variables to store individual values. When programming, you'll often want to store many more values than that.\n",
    "\n",
    "List, tuples, and dictionaries are all example of **data structures** - places to store multiple pieces of information together. These three data structures are all quite similar, but they do have key differences.\n",
    "\n",
    "When thinking about these structures, it's important to bear three key terms in mind:\n",
    "\n",
    "1. **ordered** - the items in a structure are always in the same order\n",
    "2. **indexed** - any item in a structure is accessible directly if you know the **index value**.\n",
    "3. **mutable** - the items in a structure can be changed\n",
    "\n",
    "### Lists\n",
    "\n",
    "Lists can store values of any type. The values in a list are referred to as **elements** or **items**.\n",
    "\n",
    "Lists are ordered, *numerically*-indexed, and mutable.\n",
    "\n",
    "\n",
    "Lists are created using square brackets, and the elements are separated by commas.\n",
    "\n",
    "\n",
    "As lists are numerically indexed, you can access any time just by knowing its position in the list. In Python (and in many other programming languages), numerical indexes start at 0, so the first item in a list is found at index 0, the second at at index 1, and so on."
   ]
  },
  {
   "cell_type": "code",
   "execution_count": 19,
   "metadata": {},
   "outputs": [],
   "source": [
    "# Creating a list\n",
    "\n",
    "my_list = [1, 2, 3]\n",
    "\n",
    "# Accessing a value by index in a list\n",
    "\n",
    "my_list[2]\n",
    "\n",
    "# Changing an item in a list\n",
    "\n",
    "my_list[0] = 0\n",
    "\n",
    "# Appending an item to a list\n",
    "\n",
    "my_list.append(1)\n",
    "\n",
    "# Extending a list using another list\n",
    "\n",
    "my_list.extend([4, 5, 6])"
   ]
  },
  {
   "cell_type": "markdown",
   "metadata": {},
   "source": [
    "### Tuples\n",
    "\n",
    "Tuples are very similar to lists, with two key differences. Firstly, tuples are created by using round brackets, instead of square.\n",
    "\n",
    "Secondly, while tuples are ordered and numerically indexed, they are **immutable** - once you have created a tuple, you cannot add or change any elements."
   ]
  },
  {
   "cell_type": "code",
   "execution_count": 20,
   "metadata": {},
   "outputs": [
    {
     "data": {
      "text/plain": [
       "2"
      ]
     },
     "execution_count": 20,
     "metadata": {},
     "output_type": "execute_result"
    }
   ],
   "source": [
    "# Creating a tuple\n",
    "\n",
    "my_tuple = (1, 2, 3)\n",
    "\n",
    "# Accessing a value by index in a tuple\n",
    "\n",
    "my_tuple[1]"
   ]
  },
  {
   "cell_type": "markdown",
   "metadata": {},
   "source": [
    "### Dictionaries\n",
    "\n",
    "Dictionaries are **un**ordered, indexed **non**-numerically, and mutable. \n",
    "\n",
    "Instead of storing values in ordered slots, each with a numeric index, dictionaries store sequences of key-value pairs. You can access a value in a dictionary if you know the key.\n",
    "\n",
    "Dictionaries are created using curly brackets. Each key is separated from the associated value by a colon, and key-value pairs are separated with commas. "
   ]
  },
  {
   "cell_type": "code",
   "execution_count": 21,
   "metadata": {},
   "outputs": [
    {
     "name": "stdout",
     "output_type": "stream",
     "text": [
      "0\n",
      "1\n",
      "horse\n"
     ]
    }
   ],
   "source": [
    "# Creating a dictionary\n",
    "\n",
    "my_dict = {0: \"a\", 1: \"b\"}\n",
    "\n",
    "# Accessing a value by index in a dictionary\n",
    "\n",
    "my_dict[0]\n",
    "\n",
    "# Changing an item in a dictionary\n",
    "\n",
    "my_dict[1] = \"c\"\n",
    "\n",
    "# Appending an item to a dictionary\n",
    "\n",
    "my_dict[\"horse\"] = 4\n",
    "\n",
    "# Looping through the keys in a dictionary\n",
    "\n",
    "for key in my_dict.keys():\n",
    "    print(key)"
   ]
  },
  {
   "cell_type": "markdown",
   "metadata": {},
   "source": [
    "## Extra challenges (extension)"
   ]
  },
  {
   "cell_type": "markdown",
   "metadata": {},
   "source": [
    "Create a program in which:\n",
    "\n",
    "* The computer randomly generates a number\n",
    "* The user has five attempts to guess the number\n",
    "* After each guess, the computer outputs if the guess was too high or too low"
   ]
  },
  {
   "cell_type": "code",
   "execution_count": 22,
   "metadata": {},
   "outputs": [
    {
     "name": "stdout",
     "output_type": "stream",
     "text": [
      "Make your guess: 7\n",
      "Lower!\n",
      "Make your guess: 4\n",
      "Lower!\n",
      "Make your guess: 2\n",
      "You win!\n",
      "The number was 2\n"
     ]
    }
   ],
   "source": [
    "from random import randint\n",
    "\n",
    "guesses = 0\n",
    "secret = randint(0, 100)\n",
    "while guesses < 5:\n",
    "    guess = int(input(\"Make your guess: \"))\n",
    "    if secret == guess:\n",
    "        guesses = 10\n",
    "        print(\"You win!\")\n",
    "    elif guess < secret:\n",
    "        print(\"Higher!\")\n",
    "    else:\n",
    "        print(\"Lower!\")\n",
    "    guesses += 1\n",
    "print(\"The number was\", secret)"
   ]
  },
  {
   "cell_type": "markdown",
   "metadata": {},
   "source": [
    "Create a program which allows the user to play games of \"Rock, Paper, Scissors\" against the computer."
   ]
  },
  {
   "cell_type": "code",
   "execution_count": null,
   "metadata": {},
   "outputs": [],
   "source": []
  },
  {
   "cell_type": "markdown",
   "metadata": {},
   "source": [
    "Create a program which allows a user to read and edit text in a file."
   ]
  },
  {
   "cell_type": "code",
   "execution_count": null,
   "metadata": {},
   "outputs": [],
   "source": []
  }
 ],
 "metadata": {
  "kernelspec": {
   "display_name": "Python 3",
   "language": "python",
   "name": "python3"
  },
  "language_info": {
   "codemirror_mode": {
    "name": "ipython",
    "version": 3
   },
   "file_extension": ".py",
   "mimetype": "text/x-python",
   "name": "python",
   "nbconvert_exporter": "python",
   "pygments_lexer": "ipython3",
   "version": "3.7.4"
  }
 },
 "nbformat": 4,
 "nbformat_minor": 2
}
